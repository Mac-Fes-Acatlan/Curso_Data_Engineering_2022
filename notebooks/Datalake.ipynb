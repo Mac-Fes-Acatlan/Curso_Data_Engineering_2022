{
 "cells": [
  {
   "cell_type": "markdown",
   "id": "1de71680",
   "metadata": {},
   "source": [
    "# 1.-Lectura De Base De Datos"
   ]
  },
  {
   "cell_type": "code",
   "execution_count": 1,
   "id": "5953eaa1",
   "metadata": {},
   "outputs": [],
   "source": [
    "from pyspark.sql import SparkSession\n",
    "import pyspark.sql.functions as F\n",
    "import warnings"
   ]
  },
  {
   "cell_type": "code",
   "execution_count": 2,
   "id": "8a92e13c",
   "metadata": {},
   "outputs": [
    {
     "name": "stderr",
     "output_type": "stream",
     "text": [
      "WARNING: An illegal reflective access operation has occurred\n",
      "WARNING: Illegal reflective access by org.apache.spark.unsafe.Platform (file:/usr/local/spark-3.1.2-bin-hadoop3.2/jars/spark-unsafe_2.12-3.1.2.jar) to constructor java.nio.DirectByteBuffer(long,int)\n",
      "WARNING: Please consider reporting this to the maintainers of org.apache.spark.unsafe.Platform\n",
      "WARNING: Use --illegal-access=warn to enable warnings of further illegal reflective access operations\n",
      "WARNING: All illegal access operations will be denied in a future release\n",
      "22/07/02 14:28:24 WARN NativeCodeLoader: Unable to load native-hadoop library for your platform... using builtin-java classes where applicable\n",
      "Using Spark's default log4j profile: org/apache/spark/log4j-defaults.properties\n",
      "Setting default log level to \"WARN\".\n",
      "To adjust logging level use sc.setLogLevel(newLevel). For SparkR, use setLogLevel(newLevel).\n"
     ]
    }
   ],
   "source": [
    "spark = SparkSession.builder.config(\"spark.jars\",\"/home/jovyan/drivers/postgresql-42.2.18.jar\") \\\n",
    "        .master(\"local[*]\").appName(\"Engine\").getOrCreate().newSession()"
   ]
  },
  {
   "cell_type": "markdown",
   "id": "181b2e1d",
   "metadata": {},
   "source": [
    "# 2.-Broze Layer"
   ]
  },
  {
   "cell_type": "markdown",
   "id": "5adb27a1",
   "metadata": {},
   "source": [
    "## Extracción_Maintenance"
   ]
  },
  {
   "cell_type": "code",
   "execution_count": 3,
   "id": "1fe37d2b",
   "metadata": {},
   "outputs": [],
   "source": [
    "df_db_maintenance = (spark\n",
    "                     .read\n",
    "                     .format(\"jdbc\")\n",
    "                     .option(\"url\",\"jdbc:postgresql://postgres:5432/postgres\") \n",
    "                     .option(\"dbtable\",\"tbl_maintenance\")\n",
    "                     .option(\"user\",\"airflow\")\n",
    "                     .option(\"password\",\"airflow\")\n",
    "                     .option(\"driver\",\"org.postgresql.Driver\").load()\n",
    "                    \n",
    "                    )"
   ]
  },
  {
   "cell_type": "code",
   "execution_count": 4,
   "id": "20503b0e",
   "metadata": {},
   "outputs": [
    {
     "data": {
      "text/plain": [
       "1"
      ]
     },
     "execution_count": 4,
     "metadata": {},
     "output_type": "execute_result"
    }
   ],
   "source": [
    "(\n",
    "    df_db_maintenance.rdd.getNumPartitions()\n",
    ")"
   ]
  },
  {
   "cell_type": "code",
   "execution_count": 5,
   "id": "7dea8f8a",
   "metadata": {},
   "outputs": [
    {
     "name": "stderr",
     "output_type": "stream",
     "text": [
      "                                                                                \r"
     ]
    },
    {
     "name": "stdout",
     "output_type": "stream",
     "text": [
      "+------------+---------------------+\n",
      "|partition_id|count(maintenance_id)|\n",
      "+------------+---------------------+\n",
      "|           0|                 7944|\n",
      "+------------+---------------------+\n",
      "\n"
     ]
    }
   ],
   "source": [
    "(\n",
    "    df_db_maintenance\n",
    "    .withColumn(\"partition_id\",F.spark_partition_id())\n",
    "    .groupBy(\"partition_id\")\n",
    "    .agg(F.count(\"maintenance_id\")).orderBy(\"partition_id\").show()\n",
    "\n",
    ")"
   ]
  },
  {
   "cell_type": "code",
   "execution_count": 6,
   "id": "1b19c340",
   "metadata": {},
   "outputs": [],
   "source": [
    "df_db_maintenance = df_db_maintenance.repartition(10)"
   ]
  },
  {
   "cell_type": "code",
   "execution_count": 7,
   "id": "4bbdae7c",
   "metadata": {},
   "outputs": [
    {
     "name": "stderr",
     "output_type": "stream",
     "text": [
      "[Stage 4:=================================================>    (183 + 10) / 200]\r"
     ]
    },
    {
     "name": "stdout",
     "output_type": "stream",
     "text": [
      "+------------+---------------------+\n",
      "|partition_id|count(maintenance_id)|\n",
      "+------------+---------------------+\n",
      "|           0|                  794|\n",
      "|           1|                  795|\n",
      "|           2|                  795|\n",
      "|           3|                  795|\n",
      "|           4|                  795|\n",
      "|           5|                  794|\n",
      "|           6|                  794|\n",
      "|           7|                  794|\n",
      "|           8|                  794|\n",
      "|           9|                  794|\n",
      "+------------+---------------------+\n",
      "\n"
     ]
    },
    {
     "name": "stderr",
     "output_type": "stream",
     "text": [
      "\r",
      "[Stage 4:==================================================>   (188 + 10) / 200]\r",
      "\r",
      "[Stage 4:======================================================>(199 + 1) / 200]\r",
      "\r",
      "                                                                                \r"
     ]
    }
   ],
   "source": [
    "(\n",
    "    df_db_maintenance\n",
    "    .withColumn(\"partition_id\",F.spark_partition_id())\n",
    "    .groupBy(\"partition_id\")\n",
    "    .agg(F.count(\"maintenance_id\")).orderBy(\"partition_id\").show()\n",
    "\n",
    ")"
   ]
  },
  {
   "cell_type": "markdown",
   "id": "fdf0abdf",
   "metadata": {},
   "source": [
    "## Load_Maintenance "
   ]
  },
  {
   "cell_type": "code",
   "execution_count": 9,
   "id": "624c5935",
   "metadata": {},
   "outputs": [
    {
     "name": "stderr",
     "output_type": "stream",
     "text": [
      "22/07/02 14:30:40 WARN MemoryManager: Total allocation exceeds 95.00% (1,020,054,720 bytes) of heap memory\n",
      "Scaling row group sizes to 95.00% for 8 writers\n",
      "                                                                                \r"
     ]
    }
   ],
   "source": [
    "(df_db_maintenance\n",
    " .write\n",
    " .parquet(\"/home/jovyan/datalake/bronze_layer/tbl_maintenance\",mode=\"overwrite\")\n",
    ")"
   ]
  },
  {
   "cell_type": "markdown",
   "id": "5a186b13",
   "metadata": {},
   "source": [
    "# Extraccion_Operation_Maintenance"
   ]
  },
  {
   "cell_type": "code",
   "execution_count": 11,
   "id": "91ecb008",
   "metadata": {},
   "outputs": [],
   "source": [
    "df_db_operations_maintenance = (spark\n",
    "                     .read\n",
    "                     .format(\"jdbc\")\n",
    "                     .option(\"url\",\"jdbc:postgresql://postgres:5432/postgres\") \n",
    "                     .option(\"dbtable\",\"tbl_operations_maintenance\")\n",
    "                     .option(\"user\",\"airflow\")\n",
    "                     .option(\"password\",\"airflow\")\n",
    "                     .option(\"driver\",\"org.postgresql.Driver\").load()\n",
    "                    \n",
    "                    )"
   ]
  },
  {
   "cell_type": "markdown",
   "id": "b008c1ff",
   "metadata": {},
   "source": [
    "# Load_Operation_Maintenance"
   ]
  },
  {
   "cell_type": "code",
   "execution_count": null,
   "id": "4897c0e3",
   "metadata": {},
   "outputs": [],
   "source": [
    "df[\"asda\"] = 1\n",
    "F.lit()\n",
    "\n",
    "df[\"columna2\"] = df[\"columna1\"] + 1\n",
    "F.col()"
   ]
  },
  {
   "cell_type": "code",
   "execution_count": 12,
   "id": "edd45400",
   "metadata": {},
   "outputs": [],
   "source": [
    "df_db_operations_maintenance = (df_db_operations_maintenance\n",
    "                                .withColumn(\"status_id_partition\",F.col(\"status_id\"))\n",
    "                               )"
   ]
  },
  {
   "cell_type": "code",
   "execution_count": 16,
   "id": "6fd13873",
   "metadata": {},
   "outputs": [
    {
     "name": "stdout",
     "output_type": "stream",
     "text": [
      "+---------+\n",
      "|status_id|\n",
      "+---------+\n",
      "|        1|\n",
      "|        2|\n",
      "+---------+\n",
      "\n"
     ]
    }
   ],
   "source": [
    "df_db_operations_maintenance.select(\"status_id\").distinct().show()"
   ]
  },
  {
   "cell_type": "code",
   "execution_count": 17,
   "id": "7dbbffaa",
   "metadata": {},
   "outputs": [],
   "source": [
    "(\n",
    "    df_db_operations_maintenance\n",
    "    .write.partitionBy(\"status_id_partition\")\n",
    "    .parquet(\"/home/jovyan/datalake/bronze_layer/tbl_operations_maintenance\",mode=\"overwrite\")\n",
    ")"
   ]
  },
  {
   "cell_type": "markdown",
   "id": "4eb075f8",
   "metadata": {},
   "source": [
    "# Extract_type_maintenance "
   ]
  },
  {
   "cell_type": "code",
   "execution_count": 19,
   "id": "699a5392",
   "metadata": {},
   "outputs": [],
   "source": [
    "df_db_type_maintenance= (spark\n",
    "                     .read\n",
    "                     .format(\"jdbc\")\n",
    "                     .option(\"url\",\"jdbc:postgresql://postgres:5432/postgres\") \n",
    "                     .option(\"dbtable\",\"cat_type_maintenance\")\n",
    "                     .option(\"user\",\"airflow\")\n",
    "                     .option(\"password\",\"airflow\")\n",
    "                     .option(\"driver\",\"org.postgresql.Driver\").load()\n",
    "                    \n",
    "                    )"
   ]
  },
  {
   "cell_type": "code",
   "execution_count": 21,
   "id": "02e91e2f",
   "metadata": {},
   "outputs": [
    {
     "data": {
      "text/plain": [
       "1"
      ]
     },
     "execution_count": 21,
     "metadata": {},
     "output_type": "execute_result"
    }
   ],
   "source": [
    "df_db_type_maintenance.rdd.getNumPartitions()"
   ]
  },
  {
   "cell_type": "markdown",
   "id": "ea513ec0",
   "metadata": {},
   "source": [
    "# Load_type_maintenance"
   ]
  },
  {
   "cell_type": "code",
   "execution_count": 22,
   "id": "870d88a3",
   "metadata": {},
   "outputs": [],
   "source": [
    "(df_db_type_maintenance\n",
    " .write\n",
    " .parquet(\"/home/jovyan/datalake/bronze_layer/cat_type_maintenance\",mode=\"overwrite\")\n",
    ")"
   ]
  },
  {
   "cell_type": "markdown",
   "id": "c7ccd2ce",
   "metadata": {},
   "source": [
    "# Extract_type_package"
   ]
  },
  {
   "cell_type": "code",
   "execution_count": 23,
   "id": "018fbf67",
   "metadata": {},
   "outputs": [],
   "source": [
    "df_db_type_package = (spark\n",
    "                     .read\n",
    "                     .format(\"jdbc\")\n",
    "                     .option(\"url\",\"jdbc:postgresql://postgres:5432/postgres\") \n",
    "                     .option(\"dbtable\",\"cat_type_package\")\n",
    "                     .option(\"user\",\"airflow\")\n",
    "                     .option(\"password\",\"airflow\")\n",
    "                     .option(\"driver\",\"org.postgresql.Driver\").load()\n",
    "                    \n",
    "                    )"
   ]
  },
  {
   "cell_type": "markdown",
   "id": "adbfcab9",
   "metadata": {},
   "source": [
    "# Load_type_packe"
   ]
  },
  {
   "cell_type": "code",
   "execution_count": 24,
   "id": "9d92b6e6",
   "metadata": {},
   "outputs": [],
   "source": [
    "(df_db_type_package\n",
    " .write\n",
    " .parquet(\"/home/jovyan/datalake/bronze_layer/cat_type_package\",mode=\"overwrite\")\n",
    ")"
   ]
  },
  {
   "cell_type": "markdown",
   "id": "187563e0",
   "metadata": {},
   "source": [
    "# Extract_type_status"
   ]
  },
  {
   "cell_type": "code",
   "execution_count": 25,
   "id": "94945ee1",
   "metadata": {},
   "outputs": [],
   "source": [
    "df_db_type_status = (spark\n",
    "                     .read\n",
    "                     .format(\"jdbc\")\n",
    "                     .option(\"url\",\"jdbc:postgresql://postgres:5432/postgres\") \n",
    "                     .option(\"dbtable\",\"cat_type_status\")\n",
    "                     .option(\"user\",\"airflow\")\n",
    "                     .option(\"password\",\"airflow\")\n",
    "                     .option(\"driver\",\"org.postgresql.Driver\").load()\n",
    "                    \n",
    "                    )"
   ]
  },
  {
   "cell_type": "markdown",
   "id": "7ff78657",
   "metadata": {},
   "source": [
    "# Load_type_status"
   ]
  },
  {
   "cell_type": "code",
   "execution_count": 26,
   "id": "433c38c0",
   "metadata": {},
   "outputs": [],
   "source": [
    "(df_db_type_status\n",
    " .write\n",
    " .parquet(\"/home/jovyan/datalake/bronze_layer/cat_type_status\",mode=\"overwrite\")\n",
    ")"
   ]
  },
  {
   "cell_type": "markdown",
   "id": "5805a29e",
   "metadata": {},
   "source": [
    "# 3.-Silver Layer"
   ]
  },
  {
   "cell_type": "markdown",
   "id": "b7776fe7",
   "metadata": {},
   "source": [
    "## Extract"
   ]
  },
  {
   "cell_type": "code",
   "execution_count": 33,
   "id": "d2316552",
   "metadata": {},
   "outputs": [],
   "source": [
    "df_silver_maintenance = (spark\n",
    "                .read.parquet(\"/home/jovyan/datalake/bronze_layer/tbl_maintenance/*\")\n",
    ")\n",
    "\n",
    "df_silver_operations_maintenance = (spark\n",
    "                .read.parquet(\"/home/jovyan/datalake/bronze_layer/tbl_operations_maintenance/*\")\n",
    ")\n",
    "df_silver_type_maintenance = (spark\n",
    "                .read.parquet(\"/home/jovyan/datalake/bronze_layer/cat_type_maintenance/*\")\n",
    ")\n",
    "df_silver_type_package = (spark\n",
    "                .read.parquet(\"/home/jovyan/datalake/bronze_layer/cat_type_package/*\")\n",
    ")\n",
    "df_silver_type_status = (spark\n",
    "                .read.parquet(\"/home/jovyan/datalake/bronze_layer/cat_type_status/*\")\n",
    ")\n"
   ]
  },
  {
   "cell_type": "code",
   "execution_count": 34,
   "id": "33f0d71a",
   "metadata": {},
   "outputs": [
    {
     "name": "stdout",
     "output_type": "stream",
     "text": [
      "+------------+---------------------+\n",
      "|partition_id|count(maintenance_id)|\n",
      "+------------+---------------------+\n",
      "|           0|                 1589|\n",
      "|           1|                 1588|\n",
      "|           2|                 1589|\n",
      "|           3|                 1590|\n",
      "|           4|                 1588|\n",
      "+------------+---------------------+\n",
      "\n"
     ]
    }
   ],
   "source": [
    "(df_silver_maintenance\n",
    " .withColumn(\"partition_id\",F.spark_partition_id())\n",
    " .groupBy(\"partition_id\")\n",
    " .agg(F.count(\"maintenance_id\"))\n",
    " .orderBy(\"partition_id\").show()\n",
    ")"
   ]
  },
  {
   "cell_type": "markdown",
   "id": "a2915572",
   "metadata": {},
   "source": [
    "## Transform"
   ]
  },
  {
   "cell_type": "code",
   "execution_count": 35,
   "id": "42bf8a82",
   "metadata": {},
   "outputs": [],
   "source": [
    "df_silver_maintenance = ( \n",
    "                            df_silver_maintenance\n",
    "                            .filter(df_silver_maintenance[\"price_maintenance\"]!=0.0)\n",
    "                        )"
   ]
  },
  {
   "cell_type": "code",
   "execution_count": 36,
   "id": "5c7190a5",
   "metadata": {},
   "outputs": [
    {
     "data": {
      "text/plain": [
       "4383"
      ]
     },
     "execution_count": 36,
     "metadata": {},
     "output_type": "execute_result"
    }
   ],
   "source": [
    "df_silver_maintenance.count()"
   ]
  },
  {
   "cell_type": "code",
   "execution_count": 37,
   "id": "fa72efc9",
   "metadata": {},
   "outputs": [],
   "source": [
    "df_silver_complete= (\n",
    "                        df_silver_maintenance.join(\n",
    "                        df_silver_operations_maintenance , how=\"left\",on=\"maintenance_id\"\n",
    "                        )\n",
    ")"
   ]
  },
  {
   "cell_type": "code",
   "execution_count": 38,
   "id": "631824f1",
   "metadata": {},
   "outputs": [],
   "source": [
    "df_silver_complete = (\n",
    "\n",
    "            df_silver_complete\n",
    "            .join(df_db_type_status,how=\"left\",on=\"status_id\"\n",
    "                 )\n",
    ")"
   ]
  },
  {
   "cell_type": "code",
   "execution_count": 39,
   "id": "6f807053",
   "metadata": {},
   "outputs": [],
   "source": [
    "df_silver_complete = (\n",
    "\n",
    "            df_silver_complete\n",
    "            .join(df_db_type_package,how=\"left\",on=\"package_id\"\n",
    "                 )\n",
    ")"
   ]
  },
  {
   "cell_type": "code",
   "execution_count": 40,
   "id": "06fd00e5",
   "metadata": {},
   "outputs": [],
   "source": [
    "df_silver_complete = (\n",
    "\n",
    "            df_silver_complete\n",
    "            .join(df_db_type_maintenance,how=\"left\",on=\"type_id\"\n",
    "                 )\n",
    ")"
   ]
  },
  {
   "cell_type": "code",
   "execution_count": 41,
   "id": "770ceee0",
   "metadata": {},
   "outputs": [
    {
     "name": "stderr",
     "output_type": "stream",
     "text": [
      "                                                                                \r"
     ]
    },
    {
     "data": {
      "text/plain": [
       "4391"
      ]
     },
     "execution_count": 41,
     "metadata": {},
     "output_type": "execute_result"
    }
   ],
   "source": [
    "df_silver_complete.count()"
   ]
  },
  {
   "cell_type": "code",
   "execution_count": 42,
   "id": "afa071da",
   "metadata": {},
   "outputs": [
    {
     "name": "stderr",
     "output_type": "stream",
     "text": [
      "                                                                                \r"
     ]
    },
    {
     "name": "stdout",
     "output_type": "stream",
     "text": [
      "-RECORD 0------------------------------------\n",
      " type_id               | 1                   \n",
      " package_id            | 200                 \n",
      " status_id             | 1                   \n",
      " maintenance_id        | 38855               \n",
      " stock_id              | 102392              \n",
      " estimate_id           | 8583138             \n",
      " price_maintenance     | 2299.0              \n",
      " mtn_creation_date_id  | 2021120717          \n",
      " mtn_start_date_id     | 2021121322          \n",
      " mtn_end_date_id       | 2021121400          \n",
      " mtn_delivered_date_id |                     \n",
      " mtn_creation_date     | 2021-12-07 17:00:00 \n",
      " mtn_start_date        | 2021-12-13 22:00:00 \n",
      " mtn_end_date          | 2021-12-14 00:00:00 \n",
      " mtn_delivered_date    | NULL                \n",
      " status_name           | In_Maintenance      \n",
      " date                  | 2019-09-04 17:00:00 \n",
      " package_name          | Paying Customer     \n",
      " date                  | 2019-09-04 17:00:00 \n",
      " type_name             | Medium              \n",
      " date                  | 2019-09-04 20:00:00 \n",
      "-RECORD 1------------------------------------\n",
      " type_id               | 1                   \n",
      " package_id            | 200                 \n",
      " status_id             | 1                   \n",
      " maintenance_id        | 38899               \n",
      " stock_id              | 35594               \n",
      " estimate_id           | 7882472             \n",
      " price_maintenance     | 2199.0              \n",
      " mtn_creation_date_id  | 2021120815          \n",
      " mtn_start_date_id     | 2021121117          \n",
      " mtn_end_date_id       | 2021121119          \n",
      " mtn_delivered_date_id |                     \n",
      " mtn_creation_date     | 2021-12-08 15:00:00 \n",
      " mtn_start_date        | 2021-12-11 17:00:00 \n",
      " mtn_end_date          | 2021-12-11 19:00:00 \n",
      " mtn_delivered_date    | NULL                \n",
      " status_name           | In_Maintenance      \n",
      " date                  | 2019-09-04 17:00:00 \n",
      " package_name          | Paying Customer     \n",
      " date                  | 2019-09-04 17:00:00 \n",
      " type_name             | Medium              \n",
      " date                  | 2019-09-04 20:00:00 \n",
      "-RECORD 2------------------------------------\n",
      " type_id               | 1                   \n",
      " package_id            | 200                 \n",
      " status_id             | 1                   \n",
      " maintenance_id        | 38353               \n",
      " stock_id              | 35432               \n",
      " estimate_id           | 7950697             \n",
      " price_maintenance     | 1699.0              \n",
      " mtn_creation_date_id  | 2021112400          \n",
      " mtn_start_date_id     | 2021121517          \n",
      " mtn_end_date_id       | 2021121519          \n",
      " mtn_delivered_date_id |                     \n",
      " mtn_creation_date     | 2021-11-24 00:00:00 \n",
      " mtn_start_date        | 2021-12-15 17:00:00 \n",
      " mtn_end_date          | 2021-12-15 19:00:00 \n",
      " mtn_delivered_date    | NULL                \n",
      " status_name           | In_Maintenance      \n",
      " date                  | 2019-09-04 17:00:00 \n",
      " package_name          | Paying Customer     \n",
      " date                  | 2019-09-04 17:00:00 \n",
      " type_name             | Medium              \n",
      " date                  | 2019-09-04 20:00:00 \n",
      "-RECORD 3------------------------------------\n",
      " type_id               | 1                   \n",
      " package_id            | 200                 \n",
      " status_id             | 1                   \n",
      " maintenance_id        | 38809               \n",
      " stock_id              | 21630               \n",
      " estimate_id           | 2181512             \n",
      " price_maintenance     | 2149.0              \n",
      " mtn_creation_date_id  | 2021120616          \n",
      " mtn_start_date_id     | 2021121414          \n",
      " mtn_end_date_id       | 2021121416          \n",
      " mtn_delivered_date_id |                     \n",
      " mtn_creation_date     | 2021-12-06 16:00:00 \n",
      " mtn_start_date        | 2021-12-14 14:00:00 \n",
      " mtn_end_date          | 2021-12-14 16:00:00 \n",
      " mtn_delivered_date    | NULL                \n",
      " status_name           | In_Maintenance      \n",
      " date                  | 2019-09-04 17:00:00 \n",
      " package_name          | Paying Customer     \n",
      " date                  | 2019-09-04 17:00:00 \n",
      " type_name             | Medium              \n",
      " date                  | 2019-09-04 20:00:00 \n",
      "-RECORD 4------------------------------------\n",
      " type_id               | 1                   \n",
      " package_id            | 200                 \n",
      " status_id             | 1                   \n",
      " maintenance_id        | 38747               \n",
      " stock_id              | 47694               \n",
      " estimate_id           | 7635160             \n",
      " price_maintenance     | 2299.0              \n",
      " mtn_creation_date_id  | 2021120416          \n",
      " mtn_start_date_id     | 2021121415          \n",
      " mtn_end_date_id       | 2021121417          \n",
      " mtn_delivered_date_id |                     \n",
      " mtn_creation_date     | 2021-12-04 16:00:00 \n",
      " mtn_start_date        | 2021-12-14 15:00:00 \n",
      " mtn_end_date          | 2021-12-14 17:00:00 \n",
      " mtn_delivered_date    | NULL                \n",
      " status_name           | In_Maintenance      \n",
      " date                  | 2019-09-04 17:00:00 \n",
      " package_name          | Paying Customer     \n",
      " date                  | 2019-09-04 17:00:00 \n",
      " type_name             | Medium              \n",
      " date                  | 2019-09-04 20:00:00 \n",
      "-RECORD 5------------------------------------\n",
      " type_id               | 1                   \n",
      " package_id            | 200                 \n",
      " status_id             | 1                   \n",
      " maintenance_id        | 38757               \n",
      " stock_id              | 38081               \n",
      " estimate_id           | 7838555             \n",
      " price_maintenance     | 1199.0              \n",
      " mtn_creation_date_id  | 2021120419          \n",
      " mtn_start_date_id     | 2021121818          \n",
      " mtn_end_date_id       | 2021121820          \n",
      " mtn_delivered_date_id |                     \n",
      " mtn_creation_date     | 2021-12-04 19:00:00 \n",
      " mtn_start_date        | 2021-12-18 18:00:00 \n",
      " mtn_end_date          | 2021-12-18 20:00:00 \n",
      " mtn_delivered_date    | NULL                \n",
      " status_name           | In_Maintenance      \n",
      " date                  | 2019-09-04 17:00:00 \n",
      " package_name          | Paying Customer     \n",
      " date                  | 2019-09-04 17:00:00 \n",
      " type_name             | Medium              \n",
      " date                  | 2019-09-04 20:00:00 \n",
      "-RECORD 6------------------------------------\n",
      " type_id               | 1                   \n",
      " package_id            | 200                 \n",
      " status_id             | 1                   \n",
      " maintenance_id        | 38873               \n",
      " stock_id              | 41627               \n",
      " estimate_id           | 7457090             \n",
      " price_maintenance     | 1799.0              \n",
      " mtn_creation_date_id  | 2021120722          \n",
      " mtn_start_date_id     | 2021121623          \n",
      " mtn_end_date_id       | 2021121701          \n",
      " mtn_delivered_date_id |                     \n",
      " mtn_creation_date     | 2021-12-07 22:00:00 \n",
      " mtn_start_date        | 2021-12-16 23:00:00 \n",
      " mtn_end_date          | 2021-12-17 01:00:00 \n",
      " mtn_delivered_date    | NULL                \n",
      " status_name           | In_Maintenance      \n",
      " date                  | 2019-09-04 17:00:00 \n",
      " package_name          | Paying Customer     \n",
      " date                  | 2019-09-04 17:00:00 \n",
      " type_name             | Medium              \n",
      " date                  | 2019-09-04 20:00:00 \n",
      "-RECORD 7------------------------------------\n",
      " type_id               | 1                   \n",
      " package_id            | 200                 \n",
      " status_id             | 1                   \n",
      " maintenance_id        | 38820               \n",
      " stock_id              | 105536              \n",
      " estimate_id           | 9275960             \n",
      " price_maintenance     | 2199.0              \n",
      " mtn_creation_date_id  | 2021120619          \n",
      " mtn_start_date_id     | 2021121513          \n",
      " mtn_end_date_id       | 2021121515          \n",
      " mtn_delivered_date_id |                     \n",
      " mtn_creation_date     | 2021-12-06 19:00:00 \n",
      " mtn_start_date        | 2021-12-15 13:00:00 \n",
      " mtn_end_date          | 2021-12-15 15:00:00 \n",
      " mtn_delivered_date    | NULL                \n",
      " status_name           | In_Maintenance      \n",
      " date                  | 2019-09-04 17:00:00 \n",
      " package_name          | Paying Customer     \n",
      " date                  | 2019-09-04 17:00:00 \n",
      " type_name             | Medium              \n",
      " date                  | 2019-09-04 20:00:00 \n",
      "-RECORD 8------------------------------------\n",
      " type_id               | 1                   \n",
      " package_id            | 200                 \n",
      " status_id             | 1                   \n",
      " maintenance_id        | 35001               \n",
      " stock_id              | 16151               \n",
      " estimate_id           | 0                   \n",
      " price_maintenance     | 2199.0              \n",
      " mtn_creation_date_id  | 2021082418          \n",
      " mtn_start_date_id     | 2021091316          \n",
      " mtn_end_date_id       | 2021091319          \n",
      " mtn_delivered_date_id |                     \n",
      " mtn_creation_date     | 2021-08-24 18:00:00 \n",
      " mtn_start_date        | 2021-09-13 16:00:00 \n",
      " mtn_end_date          | 2021-09-13 19:00:00 \n",
      " mtn_delivered_date    | NULL                \n",
      " status_name           | In_Maintenance      \n",
      " date                  | 2019-09-04 17:00:00 \n",
      " package_name          | Paying Customer     \n",
      " date                  | 2019-09-04 17:00:00 \n",
      " type_name             | Medium              \n",
      " date                  | 2019-09-04 20:00:00 \n",
      "-RECORD 9------------------------------------\n",
      " type_id               | 1                   \n",
      " package_id            | 200                 \n",
      " status_id             | 1                   \n",
      " maintenance_id        | 38859               \n",
      " stock_id              | 21492               \n",
      " estimate_id           | 3014504             \n",
      " price_maintenance     | 2199.0              \n",
      " mtn_creation_date_id  | 2021120718          \n",
      " mtn_start_date_id     | 2021121713          \n",
      " mtn_end_date_id       | 2021121715          \n",
      " mtn_delivered_date_id |                     \n",
      " mtn_creation_date     | 2021-12-07 18:00:00 \n",
      " mtn_start_date        | 2021-12-17 13:00:00 \n",
      " mtn_end_date          | 2021-12-17 15:00:00 \n",
      " mtn_delivered_date    | NULL                \n",
      " status_name           | In_Maintenance      \n",
      " date                  | 2019-09-04 17:00:00 \n",
      " package_name          | Paying Customer     \n",
      " date                  | 2019-09-04 17:00:00 \n",
      " type_name             | Medium              \n",
      " date                  | 2019-09-04 20:00:00 \n",
      "-RECORD 10-----------------------------------\n",
      " type_id               | 1                   \n",
      " package_id            | 200                 \n",
      " status_id             | 1                   \n",
      " maintenance_id        | 38844               \n",
      " stock_id              | 35894               \n",
      " estimate_id           | 6723498             \n",
      " price_maintenance     | 1599.0              \n",
      " mtn_creation_date_id  | 2021120714          \n",
      " mtn_start_date_id     | 2021121614          \n",
      " mtn_end_date_id       | 2021121616          \n",
      " mtn_delivered_date_id |                     \n",
      " mtn_creation_date     | 2021-12-07 14:00:00 \n",
      " mtn_start_date        | 2021-12-16 14:00:00 \n",
      " mtn_end_date          | 2021-12-16 16:00:00 \n",
      " mtn_delivered_date    | NULL                \n",
      " status_name           | In_Maintenance      \n",
      " date                  | 2019-09-04 17:00:00 \n",
      " package_name          | Paying Customer     \n",
      " date                  | 2019-09-04 17:00:00 \n",
      " type_name             | Medium              \n",
      " date                  | 2019-09-04 20:00:00 \n",
      "-RECORD 11-----------------------------------\n",
      " type_id               | 1                   \n",
      " package_id            | 200                 \n",
      " status_id             | 1                   \n",
      " maintenance_id        | 38800               \n",
      " stock_id              | 30199               \n",
      " estimate_id           | 5344101             \n",
      " price_maintenance     | 1799.0              \n",
      " mtn_creation_date_id  | 2021120615          \n",
      " mtn_start_date_id     | 2021121314          \n",
      " mtn_end_date_id       | 2021121316          \n",
      " mtn_delivered_date_id |                     \n",
      " mtn_creation_date     | 2021-12-06 15:00:00 \n",
      " mtn_start_date        | 2021-12-13 14:00:00 \n",
      " mtn_end_date          | 2021-12-13 16:00:00 \n",
      " mtn_delivered_date    | NULL                \n",
      " status_name           | In_Maintenance      \n",
      " date                  | 2019-09-04 17:00:00 \n",
      " package_name          | Paying Customer     \n",
      " date                  | 2019-09-04 17:00:00 \n",
      " type_name             | Medium              \n",
      " date                  | 2019-09-04 20:00:00 \n",
      "-RECORD 12-----------------------------------\n",
      " type_id               | 1                   \n",
      " package_id            | 200                 \n",
      " status_id             | 1                   \n",
      " maintenance_id        | 38854               \n",
      " stock_id              | 41907               \n",
      " estimate_id           | 6342700             \n",
      " price_maintenance     | 2149.0              \n",
      " mtn_creation_date_id  | 2021120717          \n",
      " mtn_start_date_id     | 2021121714          \n",
      " mtn_end_date_id       | 2021121716          \n",
      " mtn_delivered_date_id |                     \n",
      " mtn_creation_date     | 2021-12-07 17:00:00 \n",
      " mtn_start_date        | 2021-12-17 14:00:00 \n",
      " mtn_end_date          | 2021-12-17 16:00:00 \n",
      " mtn_delivered_date    | NULL                \n",
      " status_name           | In_Maintenance      \n",
      " date                  | 2019-09-04 17:00:00 \n",
      " package_name          | Paying Customer     \n",
      " date                  | 2019-09-04 17:00:00 \n",
      " type_name             | Medium              \n",
      " date                  | 2019-09-04 20:00:00 \n",
      "-RECORD 13-----------------------------------\n",
      " type_id               | 1                   \n",
      " package_id            | 200                 \n",
      " status_id             | 1                   \n",
      " maintenance_id        | 38687               \n",
      " stock_id              | 19367               \n",
      " estimate_id           | 1661422             \n",
      " price_maintenance     | 2199.0              \n",
      " mtn_creation_date_id  | 2021120216          \n",
      " mtn_start_date_id     | 2021121317          \n",
      " mtn_end_date_id       | 2021121319          \n",
      " mtn_delivered_date_id |                     \n",
      " mtn_creation_date     | 2021-12-02 16:00:00 \n",
      " mtn_start_date        | 2021-12-13 17:00:00 \n",
      " mtn_end_date          | 2021-12-13 19:00:00 \n",
      " mtn_delivered_date    | NULL                \n",
      " status_name           | In_Maintenance      \n",
      " date                  | 2019-09-04 17:00:00 \n",
      " package_name          | Paying Customer     \n",
      " date                  | 2019-09-04 17:00:00 \n",
      " type_name             | Medium              \n",
      " date                  | 2019-09-04 20:00:00 \n",
      "-RECORD 14-----------------------------------\n",
      " type_id               | 1                   \n",
      " package_id            | 200                 \n",
      " status_id             | 1                   \n",
      " maintenance_id        | 38662               \n",
      " stock_id              | 25443               \n",
      " estimate_id           | 3176231             \n",
      " price_maintenance     | 949.0               \n",
      " mtn_creation_date_id  | 2021120120          \n",
      " mtn_start_date_id     | 2021121817          \n",
      " mtn_end_date_id       | 2021121819          \n",
      " mtn_delivered_date_id |                     \n",
      " mtn_creation_date     | 2021-12-01 20:00:00 \n",
      " mtn_start_date        | 2021-12-18 17:00:00 \n",
      " mtn_end_date          | 2021-12-18 19:00:00 \n",
      " mtn_delivered_date    | NULL                \n",
      " status_name           | In_Maintenance      \n",
      " date                  | 2019-09-04 17:00:00 \n",
      " package_name          | Paying Customer     \n",
      " date                  | 2019-09-04 17:00:00 \n",
      " type_name             | Medium              \n",
      " date                  | 2019-09-04 20:00:00 \n",
      "-RECORD 15-----------------------------------\n",
      " type_id               | 1                   \n",
      " package_id            | 200                 \n",
      " status_id             | 1                   \n",
      " maintenance_id        | 38010               \n",
      " stock_id              | 33542               \n",
      " estimate_id           | 7445898             \n",
      " price_maintenance     | 2149.0              \n",
      " mtn_creation_date_id  | 2021111318          \n",
      " mtn_start_date_id     | 2021121317          \n",
      " mtn_end_date_id       | 2021121319          \n",
      " mtn_delivered_date_id |                     \n",
      " mtn_creation_date     | 2021-11-13 18:00:00 \n",
      " mtn_start_date        | 2021-12-13 17:00:00 \n",
      " mtn_end_date          | 2021-12-13 19:00:00 \n",
      " mtn_delivered_date    | NULL                \n",
      " status_name           | In_Maintenance      \n",
      " date                  | 2019-09-04 17:00:00 \n",
      " package_name          | Paying Customer     \n",
      " date                  | 2019-09-04 17:00:00 \n",
      " type_name             | Medium              \n",
      " date                  | 2019-09-04 20:00:00 \n",
      "-RECORD 16-----------------------------------\n",
      " type_id               | 1                   \n",
      " package_id            | 200                 \n",
      " status_id             | 1                   \n",
      " maintenance_id        | 38857               \n",
      " stock_id              | 17341               \n",
      " estimate_id           | 1207101             \n",
      " price_maintenance     | 2099.0              \n",
      " mtn_creation_date_id  | 2021120717          \n",
      " mtn_start_date_id     | 2021121913          \n",
      " mtn_end_date_id       | 2021121915          \n",
      " mtn_delivered_date_id |                     \n",
      " mtn_creation_date     | 2021-12-07 17:00:00 \n",
      " mtn_start_date        | 2021-12-19 13:00:00 \n",
      " mtn_end_date          | 2021-12-19 15:00:00 \n",
      " mtn_delivered_date    | NULL                \n",
      " status_name           | In_Maintenance      \n",
      " date                  | 2019-09-04 17:00:00 \n",
      " package_name          | Paying Customer     \n",
      " date                  | 2019-09-04 17:00:00 \n",
      " type_name             | Medium              \n",
      " date                  | 2019-09-04 20:00:00 \n",
      "-RECORD 17-----------------------------------\n",
      " type_id               | 1                   \n",
      " package_id            | 200                 \n",
      " status_id             | 1                   \n",
      " maintenance_id        | 38923               \n",
      " stock_id              | 47938               \n",
      " estimate_id           | 9251539             \n",
      " price_maintenance     | 2299.0              \n",
      " mtn_creation_date_id  | 2021120822          \n",
      " mtn_start_date_id     | 2021122013          \n",
      " mtn_end_date_id       | 2021122015          \n",
      " mtn_delivered_date_id |                     \n",
      " mtn_creation_date     | 2021-12-08 22:00:00 \n",
      " mtn_start_date        | 2021-12-20 13:00:00 \n",
      " mtn_end_date          | 2021-12-20 15:00:00 \n",
      " mtn_delivered_date    | NULL                \n",
      " status_name           | In_Maintenance      \n",
      " date                  | 2019-09-04 17:00:00 \n",
      " package_name          | Paying Customer     \n",
      " date                  | 2019-09-04 17:00:00 \n",
      " type_name             | Medium              \n",
      " date                  | 2019-09-04 20:00:00 \n",
      "-RECORD 18-----------------------------------\n",
      " type_id               | 1                   \n",
      " package_id            | 200                 \n",
      " status_id             | 1                   \n",
      " maintenance_id        | 38540               \n",
      " stock_id              | 103942              \n",
      " estimate_id           | 9289973             \n",
      " price_maintenance     | 1699.0              \n",
      " mtn_creation_date_id  | 2021112919          \n",
      " mtn_start_date_id     | 2021121313          \n",
      " mtn_end_date_id       | 2021121315          \n",
      " mtn_delivered_date_id |                     \n",
      " mtn_creation_date     | 2021-11-29 19:00:00 \n",
      " mtn_start_date        | 2021-12-13 13:00:00 \n",
      " mtn_end_date          | 2021-12-13 15:00:00 \n",
      " mtn_delivered_date    | NULL                \n",
      " status_name           | In_Maintenance      \n",
      " date                  | 2019-09-04 17:00:00 \n",
      " package_name          | Paying Customer     \n",
      " date                  | 2019-09-04 17:00:00 \n",
      " type_name             | Medium              \n",
      " date                  | 2019-09-04 20:00:00 \n",
      "-RECORD 19-----------------------------------\n",
      " type_id               | 1                   \n",
      " package_id            | 200                 \n",
      " status_id             | 1                   \n",
      " maintenance_id        | 37138               \n",
      " stock_id              | 38442               \n",
      " estimate_id           | 5774173             \n",
      " price_maintenance     | 2149.0              \n",
      " mtn_creation_date_id  | 2021102717          \n",
      " mtn_start_date_id     | 2021121318          \n",
      " mtn_end_date_id       | 2021121320          \n",
      " mtn_delivered_date_id |                     \n",
      " mtn_creation_date     | 2021-10-27 17:00:00 \n",
      " mtn_start_date        | 2021-12-13 18:00:00 \n",
      " mtn_end_date          | 2021-12-13 20:00:00 \n",
      " mtn_delivered_date    | NULL                \n",
      " status_name           | In_Maintenance      \n",
      " date                  | 2019-09-04 17:00:00 \n",
      " package_name          | Paying Customer     \n",
      " date                  | 2019-09-04 17:00:00 \n",
      " type_name             | Medium              \n",
      " date                  | 2019-09-04 20:00:00 \n",
      "only showing top 20 rows\n",
      "\n"
     ]
    }
   ],
   "source": [
    "df_silver_complete.show(vertical=True)"
   ]
  },
  {
   "cell_type": "code",
   "execution_count": 47,
   "id": "41f57a15",
   "metadata": {},
   "outputs": [],
   "source": [
    "df_silver_complete = df_silver_complete.drop(\"date\")"
   ]
  },
  {
   "cell_type": "code",
   "execution_count": 48,
   "id": "0a837eb9",
   "metadata": {},
   "outputs": [
    {
     "name": "stderr",
     "output_type": "stream",
     "text": [
      "                                                                                \r"
     ]
    }
   ],
   "source": [
    "df_silver_complete.write.parquet(\"/home/jovyan/datalake/silver_layer/data_clean_maintenance\")"
   ]
  },
  {
   "cell_type": "markdown",
   "id": "b3150c6a",
   "metadata": {},
   "source": [
    "# Golden Layer"
   ]
  },
  {
   "cell_type": "code",
   "execution_count": null,
   "id": "e55db5a8",
   "metadata": {},
   "outputs": [],
   "source": []
  }
 ],
 "metadata": {
  "kernelspec": {
   "display_name": "Python 3 (ipykernel)",
   "language": "python",
   "name": "python3"
  },
  "language_info": {
   "codemirror_mode": {
    "name": "ipython",
    "version": 3
   },
   "file_extension": ".py",
   "mimetype": "text/x-python",
   "name": "python",
   "nbconvert_exporter": "python",
   "pygments_lexer": "ipython3",
   "version": "3.9.7"
  }
 },
 "nbformat": 4,
 "nbformat_minor": 5
}
