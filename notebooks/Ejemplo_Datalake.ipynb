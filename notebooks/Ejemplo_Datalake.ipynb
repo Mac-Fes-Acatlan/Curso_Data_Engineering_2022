{
 "cells": [
  {
   "cell_type": "markdown",
   "id": "63aa201e",
   "metadata": {},
   "source": [
    "# 1.-Lectura de Base De Datos"
   ]
  },
  {
   "cell_type": "code",
   "execution_count": 1,
   "id": "e94eccf0",
   "metadata": {},
   "outputs": [],
   "source": [
    "from pyspark.sql import SparkSession\n",
    "import pyspark.sql.functions as F\n",
    "import warnings"
   ]
  },
  {
   "cell_type": "code",
   "execution_count": 2,
   "id": "6fa630e9",
   "metadata": {},
   "outputs": [
    {
     "name": "stderr",
     "output_type": "stream",
     "text": [
      "WARNING: An illegal reflective access operation has occurred\n",
      "WARNING: Illegal reflective access by org.apache.spark.unsafe.Platform (file:/usr/local/spark-3.1.2-bin-hadoop3.2/jars/spark-unsafe_2.12-3.1.2.jar) to constructor java.nio.DirectByteBuffer(long,int)\n",
      "WARNING: Please consider reporting this to the maintainers of org.apache.spark.unsafe.Platform\n",
      "WARNING: Use --illegal-access=warn to enable warnings of further illegal reflective access operations\n",
      "WARNING: All illegal access operations will be denied in a future release\n",
      "22/07/02 04:53:25 WARN NativeCodeLoader: Unable to load native-hadoop library for your platform... using builtin-java classes where applicable\n",
      "Using Spark's default log4j profile: org/apache/spark/log4j-defaults.properties\n",
      "Setting default log level to \"WARN\".\n",
      "To adjust logging level use sc.setLogLevel(newLevel). For SparkR, use setLogLevel(newLevel).\n"
     ]
    }
   ],
   "source": [
    "spark = SparkSession.builder.config(\"spark.jars\", \"/home/jovyan/drivers/postgresql-42.2.18.jar\") \\\n",
    "    .master(\"local[*]\").appName(\"Engine\").getOrCreate().newSession()"
   ]
  },
  {
   "cell_type": "markdown",
   "id": "512e1b46",
   "metadata": {},
   "source": [
    "# 2.- Bronze Layer"
   ]
  },
  {
   "cell_type": "markdown",
   "id": "3363eb3d",
   "metadata": {},
   "source": [
    "## Extracción_Maintenance"
   ]
  },
  {
   "cell_type": "code",
   "execution_count": 3,
   "id": "42120cd3",
   "metadata": {},
   "outputs": [],
   "source": [
    "df_db_maintenance = (spark.read.format(\"jdbc\").option(\"url\",\"jdbc:postgresql://postgres:5432/postgres\")\n",
    "         .option(\"dbtable\",\"tbl_maintenance\") \\\n",
    "         .option(\"user\",\"airflow\").option(\"password\",\"airflow\") \\\n",
    "         .option(\"driver\",\"org.postgresql.Driver\").load()\n",
    "        )"
   ]
  },
  {
   "cell_type": "code",
   "execution_count": 4,
   "id": "6137fb38",
   "metadata": {},
   "outputs": [
    {
     "name": "stderr",
     "output_type": "stream",
     "text": [
      "\r",
      "[Stage 1:===================>                                    (71 + 8) / 200]\r",
      "\r",
      "[Stage 1:=================================>                     (122 + 8) / 200]\r"
     ]
    },
    {
     "name": "stdout",
     "output_type": "stream",
     "text": [
      "+------------+---------------------+\n",
      "|partition_id|count(maintenance_id)|\n",
      "+------------+---------------------+\n",
      "|           0|                 7944|\n",
      "+------------+---------------------+\n",
      "\n"
     ]
    },
    {
     "name": "stderr",
     "output_type": "stream",
     "text": [
      "\r",
      "[Stage 1:=================================================>     (181 + 9) / 200]\r",
      "\r",
      "                                                                                \r"
     ]
    }
   ],
   "source": [
    "(df_db_maintenance\n",
    " .withColumn(\"partition_id\", F.spark_partition_id())\n",
    " .groupBy(\"partition_id\")\n",
    " .agg(F.count(\"maintenance_id\")).orderBy(\"partition_id\").show()\n",
    ")"
   ]
  },
  {
   "cell_type": "code",
   "execution_count": 5,
   "id": "17f2c01b",
   "metadata": {},
   "outputs": [],
   "source": [
    "df_db_maintenance = df_db_maintenance.repartition(10)"
   ]
  },
  {
   "cell_type": "code",
   "execution_count": 6,
   "id": "b8def36e",
   "metadata": {},
   "outputs": [
    {
     "name": "stdout",
     "output_type": "stream",
     "text": [
      "+------------+---------------------+\n",
      "|partition_id|count(maintenance_id)|\n",
      "+------------+---------------------+\n",
      "|           0|                  794|\n",
      "|           1|                  795|\n",
      "|           2|                  795|\n",
      "|           3|                  795|\n",
      "|           4|                  795|\n",
      "|           5|                  794|\n",
      "|           6|                  794|\n",
      "|           7|                  794|\n",
      "|           8|                  794|\n",
      "|           9|                  794|\n",
      "+------------+---------------------+\n",
      "\n"
     ]
    }
   ],
   "source": [
    "(df_db_maintenance\n",
    " .withColumn(\"partition_id\", F.spark_partition_id())\n",
    " .groupBy(\"partition_id\")\n",
    " .agg(F.count(\"maintenance_id\")).orderBy(\"partition_id\").show()\n",
    ")"
   ]
  },
  {
   "cell_type": "markdown",
   "id": "84bddc2f",
   "metadata": {},
   "source": [
    "## Load_Maintenance"
   ]
  },
  {
   "cell_type": "code",
   "execution_count": 7,
   "id": "054e5153",
   "metadata": {},
   "outputs": [
    {
     "name": "stderr",
     "output_type": "stream",
     "text": [
      "22/07/02 04:53:34 WARN MemoryManager: Total allocation exceeds 95.00% (1,020,054,720 bytes) of heap memory\n",
      "Scaling row group sizes to 95.00% for 8 writers\n",
      "                                                                                \r"
     ]
    }
   ],
   "source": [
    "df_db_maintenance.write.parquet(\"/home/jovyan/datalake/bronze_layer/tbl_maintenance\",mode=\"overwrite\")"
   ]
  },
  {
   "cell_type": "markdown",
   "id": "a0847d61",
   "metadata": {},
   "source": [
    "## Extracción_Operation_Maintenance"
   ]
  },
  {
   "cell_type": "code",
   "execution_count": 8,
   "id": "28e02e8d",
   "metadata": {},
   "outputs": [],
   "source": [
    "df_db_operations_maintenance = (spark.read.format(\"jdbc\").option(\"url\",\"jdbc:postgresql://postgres:5432/postgres\")\n",
    "         .option(\"dbtable\",\"tbl_operations_maintenance\") \\\n",
    "         .option(\"user\",\"airflow\").option(\"password\",\"airflow\") \\\n",
    "         .option(\"driver\",\"org.postgresql.Driver\").load()\n",
    "        )"
   ]
  },
  {
   "cell_type": "code",
   "execution_count": 9,
   "id": "72ef834c",
   "metadata": {},
   "outputs": [
    {
     "name": "stdout",
     "output_type": "stream",
     "text": [
      "root\n",
      " |-- mtn_creation_date_id: string (nullable = true)\n",
      " |-- mtn_start_date_id: string (nullable = true)\n",
      " |-- mtn_end_date_id: string (nullable = true)\n",
      " |-- mtn_delivered_date_id: string (nullable = true)\n",
      " |-- mtn_creation_date: string (nullable = true)\n",
      " |-- mtn_start_date: string (nullable = true)\n",
      " |-- mtn_end_date: string (nullable = true)\n",
      " |-- mtn_delivered_date: string (nullable = true)\n",
      " |-- maintenance_id: integer (nullable = true)\n",
      " |-- status_id: integer (nullable = true)\n",
      "\n"
     ]
    }
   ],
   "source": [
    "df_db_operations_maintenance.printSchema()"
   ]
  },
  {
   "cell_type": "markdown",
   "id": "3e7d2355",
   "metadata": {},
   "source": [
    "## Load_Operation_Maintenance"
   ]
  },
  {
   "cell_type": "code",
   "execution_count": 14,
   "id": "2b4381fc",
   "metadata": {},
   "outputs": [],
   "source": [
    "df_db_operations_maintenance = df_db_operations_maintenance.withColumn('status_id_partition',F.col(\"status_id\"))"
   ]
  },
  {
   "cell_type": "code",
   "execution_count": 15,
   "id": "a3a18c1e",
   "metadata": {},
   "outputs": [],
   "source": [
    "(df_db_operations_maintenance\n",
    " .write.partitionBy(\"status_id_partition\")\n",
    " .parquet(\"/home/jovyan/datalake/bronze_layer/tbl_operations_maintenance\",mode='overwrite')\n",
    ")"
   ]
  },
  {
   "cell_type": "markdown",
   "id": "7b58e8e6",
   "metadata": {},
   "source": [
    "## Extract_type_maintenance"
   ]
  },
  {
   "cell_type": "code",
   "execution_count": 16,
   "id": "cc72ad9b",
   "metadata": {},
   "outputs": [],
   "source": [
    "df_db_type_maintenance = (spark.read.format(\"jdbc\").option(\"url\",\"jdbc:postgresql://postgres:5432/postgres\")\n",
    "         .option(\"dbtable\",\"cat_type_maintenance\") \\\n",
    "         .option(\"user\",\"airflow\").option(\"password\",\"airflow\") \\\n",
    "         .option(\"driver\",\"org.postgresql.Driver\").load()\n",
    "        )"
   ]
  },
  {
   "cell_type": "markdown",
   "id": "29f2366c",
   "metadata": {},
   "source": [
    "## Load_type_maintenance"
   ]
  },
  {
   "cell_type": "code",
   "execution_count": 17,
   "id": "0824c0fc",
   "metadata": {},
   "outputs": [],
   "source": [
    "df_db_type_maintenance.write.parquet(\"/home/jovyan/datalake/bronze_layer/cat_type_maintenance\",mode='overwrite')"
   ]
  },
  {
   "cell_type": "markdown",
   "id": "db24ec40",
   "metadata": {},
   "source": [
    "## Extract_type_package"
   ]
  },
  {
   "cell_type": "code",
   "execution_count": 18,
   "id": "6471854f",
   "metadata": {},
   "outputs": [],
   "source": [
    "df_db_type_package = (spark.read.format(\"jdbc\").option(\"url\",\"jdbc:postgresql://postgres:5432/postgres\")\n",
    "         .option(\"dbtable\",\"cat_type_package\") \\\n",
    "         .option(\"user\",\"airflow\").option(\"password\",\"airflow\") \\\n",
    "         .option(\"driver\",\"org.postgresql.Driver\").load()\n",
    "        )"
   ]
  },
  {
   "cell_type": "markdown",
   "id": "5a0f7f53",
   "metadata": {},
   "source": [
    "## Load_type_package"
   ]
  },
  {
   "cell_type": "code",
   "execution_count": 19,
   "id": "5b0381c9",
   "metadata": {},
   "outputs": [],
   "source": [
    "df_db_type_package.write.parquet(\"/home/jovyan/datalake/bronze_layer/cat_type_package\",mode='overwrite')"
   ]
  },
  {
   "cell_type": "markdown",
   "id": "fcbb1d3f",
   "metadata": {},
   "source": [
    "## Extract_type_status"
   ]
  },
  {
   "cell_type": "code",
   "execution_count": 20,
   "id": "8c744ca2",
   "metadata": {},
   "outputs": [],
   "source": [
    "df_db_type_status = (spark.read.format(\"jdbc\").option(\"url\",\"jdbc:postgresql://postgres:5432/postgres\")\n",
    "         .option(\"dbtable\",\"cat_type_status\") \\\n",
    "         .option(\"user\",\"airflow\").option(\"password\",\"airflow\") \\\n",
    "         .option(\"driver\",\"org.postgresql.Driver\").load()\n",
    "        )"
   ]
  },
  {
   "cell_type": "markdown",
   "id": "1b5623f8",
   "metadata": {},
   "source": [
    "## Load_type_status"
   ]
  },
  {
   "cell_type": "code",
   "execution_count": 21,
   "id": "c045d65a",
   "metadata": {},
   "outputs": [],
   "source": [
    "df_db_type_status.write.parquet(\"/home/jovyan/datalake/bronze_layer/cat_type_status\",mode='overwrite')"
   ]
  },
  {
   "cell_type": "markdown",
   "id": "e1e6e37e",
   "metadata": {},
   "source": [
    "# 3.-Silver Layer"
   ]
  },
  {
   "cell_type": "markdown",
   "id": "cd7782f2",
   "metadata": {},
   "source": [
    "## Extract"
   ]
  },
  {
   "cell_type": "code",
   "execution_count": 31,
   "id": "5eab7d5c",
   "metadata": {},
   "outputs": [],
   "source": [
    "df_silver_maintenance = spark.read.parquet(\"/home/jovyan/datalake/bronze_layer/tbl_maintenance/*\")\n",
    "df_silver_operations_maintenace = (spark\n",
    "                                   .read\n",
    "                                   .parquet(\"/home/jovyan/datalake/bronze_layer/tbl_operations_maintenance/*\")\n",
    "                                  )\n",
    "df_silver_type_maintenance = (spark\n",
    "                              .read\n",
    "                              .parquet(\"/home/jovyan/datalake/bronze_layer/cat_type_maintenance/*\")\n",
    "                             )\n",
    "df_silver_type_package = (spark\n",
    "                              .read\n",
    "                              .parquet(\"/home/jovyan/datalake/bronze_layer/cat_type_package/*\")\n",
    "                             )\n",
    "df_silver_type_status = (spark\n",
    "                             .read\n",
    "                             .parquet(\"/home/jovyan/datalake/bronze_layer/cat_type_status/*\")\n",
    "                        )\n"
   ]
  },
  {
   "cell_type": "code",
   "execution_count": 32,
   "id": "f0527640",
   "metadata": {},
   "outputs": [
    {
     "name": "stdout",
     "output_type": "stream",
     "text": [
      "+------------+---------------------+\n",
      "|partition_id|count(maintenance_id)|\n",
      "+------------+---------------------+\n",
      "|           0|                 1589|\n",
      "|           1|                 1588|\n",
      "|           2|                 1589|\n",
      "|           3|                 1590|\n",
      "|           4|                 1588|\n",
      "+------------+---------------------+\n",
      "\n"
     ]
    }
   ],
   "source": [
    "(df_silver_maintenance\n",
    " .withColumn(\"partition_id\",F.spark_partition_id())\n",
    " .groupBy(\"partition_id\")\n",
    " .agg(F.count(\"maintenance_id\"))\n",
    " .orderBy(\"partition_id\").show()\n",
    ")"
   ]
  },
  {
   "cell_type": "markdown",
   "id": "56484a87",
   "metadata": {},
   "source": [
    "## Transform"
   ]
  },
  {
   "cell_type": "code",
   "execution_count": 33,
   "id": "3bed2450",
   "metadata": {},
   "outputs": [
    {
     "name": "stdout",
     "output_type": "stream",
     "text": [
      "root\n",
      " |-- mtn_creation_date_id: string (nullable = true)\n",
      " |-- mtn_start_date_id: string (nullable = true)\n",
      " |-- mtn_end_date_id: string (nullable = true)\n",
      " |-- mtn_delivered_date_id: string (nullable = true)\n",
      " |-- mtn_creation_date: string (nullable = true)\n",
      " |-- mtn_start_date: string (nullable = true)\n",
      " |-- mtn_end_date: string (nullable = true)\n",
      " |-- mtn_delivered_date: string (nullable = true)\n",
      " |-- maintenance_id: integer (nullable = true)\n",
      " |-- status_id: integer (nullable = true)\n",
      "\n"
     ]
    }
   ],
   "source": [
    "df_silver_operations_maintenace.printSchema()"
   ]
  },
  {
   "cell_type": "code",
   "execution_count": 34,
   "id": "4e866bb6",
   "metadata": {},
   "outputs": [],
   "source": [
    "df_silver_maintenance = (df_silver_maintenance\n",
    "                         .filter(df_silver_maintenance[\"price_maintenance\"]!=0.0)\n",
    "                        )"
   ]
  },
  {
   "cell_type": "code",
   "execution_count": 35,
   "id": "a37e7723",
   "metadata": {},
   "outputs": [
    {
     "data": {
      "text/plain": [
       "4383"
      ]
     },
     "execution_count": 35,
     "metadata": {},
     "output_type": "execute_result"
    }
   ],
   "source": [
    "df_silver_maintenance.count()"
   ]
  },
  {
   "cell_type": "code",
   "execution_count": 36,
   "id": "40a4db7b",
   "metadata": {},
   "outputs": [],
   "source": [
    "df_silver_complete = (\n",
    "                     df_silver_maintenance\n",
    "                        .join(df_silver_operations_maintenace,how='left', on='maintenance_id'\n",
    "                             )\n",
    "                     )"
   ]
  },
  {
   "cell_type": "code",
   "execution_count": 37,
   "id": "cbbc16ad",
   "metadata": {},
   "outputs": [],
   "source": [
    "df_silver_complete = (\n",
    "                        df_silver_complete\n",
    "                         .join(df_silver_type_status,how='left',on='status_id')\n",
    "                     )"
   ]
  },
  {
   "cell_type": "code",
   "execution_count": 39,
   "id": "c030c5ba",
   "metadata": {},
   "outputs": [],
   "source": [
    "df_silver_complete = (\n",
    "                        df_silver_complete\n",
    "                         .join(df_silver_type_package,how='left',on='package_id')\n",
    "                     )"
   ]
  },
  {
   "cell_type": "code",
   "execution_count": 40,
   "id": "c383da30",
   "metadata": {},
   "outputs": [],
   "source": [
    "df_silver_complete = (\n",
    "                        df_silver_complete\n",
    "                         .join(df_silver_type_maintenance,how='left',on='type_id')\n",
    "                     )"
   ]
  },
  {
   "cell_type": "code",
   "execution_count": 41,
   "id": "35cbe582",
   "metadata": {},
   "outputs": [
    {
     "data": {
      "text/plain": [
       "4391"
      ]
     },
     "execution_count": 41,
     "metadata": {},
     "output_type": "execute_result"
    }
   ],
   "source": [
    "df_silver_complete.count()"
   ]
  },
  {
   "cell_type": "code",
   "execution_count": 43,
   "id": "a6828436",
   "metadata": {},
   "outputs": [
    {
     "name": "stdout",
     "output_type": "stream",
     "text": [
      "-RECORD 0------------------------------------\n",
      " type_id               | 6                   \n",
      " package_id            | 200                 \n",
      " status_id             | 2                   \n",
      " maintenance_id        | 32199               \n",
      " stock_id              | 19656               \n",
      " estimate_id           | 0                   \n",
      " price_maintenance     | 1100.0              \n",
      " mtn_creation_date_id  | 2021031500          \n",
      " mtn_start_date_id     | 2021032015          \n",
      " mtn_end_date_id       | 2021032019          \n",
      " mtn_delivered_date_id | 2021032423          \n",
      " mtn_creation_date     | 2021-03-15 00:00:00 \n",
      " mtn_start_date        | 2021-03-20 15:00:00 \n",
      " mtn_end_date          | 2021-03-20 19:00:00 \n",
      " mtn_delivered_date    | 2021-03-24 18:50:41 \n",
      " status_name           | Delivered           \n",
      " date                  | 2019-09-04 18:00:00 \n",
      " package_name          | Paying Customer     \n",
      " date                  | 2019-09-04 17:00:00 \n",
      " type_name             | Basic               \n",
      " date                  | 2019-09-04 18:00:00 \n",
      "-RECORD 1------------------------------------\n",
      " type_id               | 6                   \n",
      " package_id            | 200                 \n",
      " status_id             | 2                   \n",
      " maintenance_id        | 36639               \n",
      " stock_id              | 31547               \n",
      " estimate_id           | 3984185             \n",
      " price_maintenance     | 1200.0              \n",
      " mtn_creation_date_id  | 2021101419          \n",
      " mtn_start_date_id     | 2021102516          \n",
      " mtn_end_date_id       | 2021102519          \n",
      " mtn_delivered_date_id | 2021102523          \n",
      " mtn_creation_date     | 2021-10-14 19:00:00 \n",
      " mtn_start_date        | 2021-10-25 16:00:00 \n",
      " mtn_end_date          | 2021-10-25 19:00:00 \n",
      " mtn_delivered_date    | 2021-10-25 22:12:05 \n",
      " status_name           | Delivered           \n",
      " date                  | 2019-09-04 18:00:00 \n",
      " package_name          | Paying Customer     \n",
      " date                  | 2019-09-04 17:00:00 \n",
      " type_name             | Basic               \n",
      " date                  | 2019-09-04 18:00:00 \n",
      "-RECORD 2------------------------------------\n",
      " type_id               | 6                   \n",
      " package_id            | 200                 \n",
      " status_id             | 2                   \n",
      " maintenance_id        | 34830               \n",
      " stock_id              | 33492               \n",
      " estimate_id           | 0                   \n",
      " price_maintenance     | 1250.0              \n",
      " mtn_creation_date_id  | 2021081321          \n",
      " mtn_start_date_id     | 2021083016          \n",
      " mtn_end_date_id       | 2021083016          \n",
      " mtn_delivered_date_id | 2021102723          \n",
      " mtn_creation_date     | 2021-08-13 21:00:00 \n",
      " mtn_start_date        | 2021-08-30 16:00:00 \n",
      " mtn_end_date          | 2021-08-30 16:00:00 \n",
      " mtn_delivered_date    | 2021-10-27 14:54:47 \n",
      " status_name           | Delivered           \n",
      " date                  | 2019-09-04 18:00:00 \n",
      " package_name          | Paying Customer     \n",
      " date                  | 2019-09-04 17:00:00 \n",
      " type_name             | Basic               \n",
      " date                  | 2019-09-04 18:00:00 \n",
      "-RECORD 3------------------------------------\n",
      " type_id               | 6                   \n",
      " package_id            | 200                 \n",
      " status_id             | 2                   \n",
      " maintenance_id        | 32502               \n",
      " stock_id              | 36643               \n",
      " estimate_id           | 0                   \n",
      " price_maintenance     | 2299.0              \n",
      " mtn_creation_date_id  | 2021042816          \n",
      " mtn_start_date_id     | 2021050619          \n",
      " mtn_end_date_id       | 2021050623          \n",
      " mtn_delivered_date_id | 2021050623          \n",
      " mtn_creation_date     | 2021-04-28 16:00:00 \n",
      " mtn_start_date        | 2021-05-06 19:00:00 \n",
      " mtn_end_date          | 2021-05-06 23:00:00 \n",
      " mtn_delivered_date    | 2021-05-06 22:18:25 \n",
      " status_name           | Delivered           \n",
      " date                  | 2019-09-04 18:00:00 \n",
      " package_name          | Paying Customer     \n",
      " date                  | 2019-09-04 17:00:00 \n",
      " type_name             | Basic               \n",
      " date                  | 2019-09-04 18:00:00 \n",
      "-RECORD 4------------------------------------\n",
      " type_id               | 1                   \n",
      " package_id            | 200                 \n",
      " status_id             | 2                   \n",
      " maintenance_id        | 35432               \n",
      " stock_id              | 28899               \n",
      " estimate_id           | 0                   \n",
      " price_maintenance     | 1699.0              \n",
      " mtn_creation_date_id  | 2021091020          \n",
      " mtn_start_date_id     | 2021091514          \n",
      " mtn_end_date_id       | 2021091517          \n",
      " mtn_delivered_date_id | 2021091523          \n",
      " mtn_creation_date     | 2021-09-10 20:00:00 \n",
      " mtn_start_date        | 2021-09-15 14:00:00 \n",
      " mtn_end_date          | 2021-09-15 17:00:00 \n",
      " mtn_delivered_date    | 2021-09-15 19:40:08 \n",
      " status_name           | Delivered           \n",
      " date                  | 2019-09-04 18:00:00 \n",
      " package_name          | Paying Customer     \n",
      " date                  | 2019-09-04 17:00:00 \n",
      " type_name             | Medium              \n",
      " date                  | 2019-09-04 20:00:00 \n",
      "-RECORD 5------------------------------------\n",
      " type_id               | 1                   \n",
      " package_id            | 200                 \n",
      " status_id             | 2                   \n",
      " maintenance_id        | 37510               \n",
      " stock_id              | 40316               \n",
      " estimate_id           | 7138434             \n",
      " price_maintenance     | 949.0               \n",
      " mtn_creation_date_id  | 2021110319          \n",
      " mtn_start_date_id     | 2021111309          \n",
      " mtn_end_date_id       | 2021111311          \n",
      " mtn_delivered_date_id | 2021111323          \n",
      " mtn_creation_date     | 2021-11-03 19:00:00 \n",
      " mtn_start_date        | 2021-11-13 09:00:00 \n",
      " mtn_end_date          | 2021-11-13 11:00:00 \n",
      " mtn_delivered_date    | 2021-11-13 21:24:13 \n",
      " status_name           | Delivered           \n",
      " date                  | 2019-09-04 18:00:00 \n",
      " package_name          | Paying Customer     \n",
      " date                  | 2019-09-04 17:00:00 \n",
      " type_name             | Medium              \n",
      " date                  | 2019-09-04 20:00:00 \n",
      "-RECORD 6------------------------------------\n",
      " type_id               | 6                   \n",
      " package_id            | 200                 \n",
      " status_id             | 2                   \n",
      " maintenance_id        | 38219               \n",
      " stock_id              | 45330               \n",
      " estimate_id           | 6662555             \n",
      " price_maintenance     | 1350.0              \n",
      " mtn_creation_date_id  | 2021111916          \n",
      " mtn_start_date_id     | 2021113016          \n",
      " mtn_end_date_id       | 2021113018          \n",
      " mtn_delivered_date_id | 2021113023          \n",
      " mtn_creation_date     | 2021-11-19 16:00:00 \n",
      " mtn_start_date        | 2021-11-30 16:00:00 \n",
      " mtn_end_date          | 2021-11-30 18:00:00 \n",
      " mtn_delivered_date    | 2021-11-30 20:38:51 \n",
      " status_name           | Delivered           \n",
      " date                  | 2019-09-04 18:00:00 \n",
      " package_name          | Paying Customer     \n",
      " date                  | 2019-09-04 17:00:00 \n",
      " type_name             | Basic               \n",
      " date                  | 2019-09-04 18:00:00 \n",
      "-RECORD 7------------------------------------\n",
      " type_id               | 1                   \n",
      " package_id            | 200                 \n",
      " status_id             | 2                   \n",
      " maintenance_id        | 37196               \n",
      " stock_id              | 35061               \n",
      " estimate_id           | 4527420             \n",
      " price_maintenance     | 1699.0              \n",
      " mtn_creation_date_id  | 2021102819          \n",
      " mtn_start_date_id     | 2021110113          \n",
      " mtn_end_date_id       | 2021110116          \n",
      " mtn_delivered_date_id | 2021110123          \n",
      " mtn_creation_date     | 2021-10-28 19:00:00 \n",
      " mtn_start_date        | 2021-11-01 13:00:00 \n",
      " mtn_end_date          | 2021-11-01 16:00:00 \n",
      " mtn_delivered_date    | 2021-11-01 18:12:15 \n",
      " status_name           | Delivered           \n",
      " date                  | 2019-09-04 18:00:00 \n",
      " package_name          | Paying Customer     \n",
      " date                  | 2019-09-04 17:00:00 \n",
      " type_name             | Medium              \n",
      " date                  | 2019-09-04 20:00:00 \n",
      "-RECORD 8------------------------------------\n",
      " type_id               | 6                   \n",
      " package_id            | 200                 \n",
      " status_id             | 2                   \n",
      " maintenance_id        | 37159               \n",
      " stock_id              | 43294               \n",
      " estimate_id           | 8791709             \n",
      " price_maintenance     | 750.0               \n",
      " mtn_creation_date_id  | 2021102721          \n",
      " mtn_start_date_id     | 2021110219          \n",
      " mtn_end_date_id       | 2021110222          \n",
      " mtn_delivered_date_id | 2021110823          \n",
      " mtn_creation_date     | 2021-10-27 21:00:00 \n",
      " mtn_start_date        | 2021-11-02 19:00:00 \n",
      " mtn_end_date          | 2021-11-02 22:00:00 \n",
      " mtn_delivered_date    | 2021-11-08 17:16:31 \n",
      " status_name           | Delivered           \n",
      " date                  | 2019-09-04 18:00:00 \n",
      " package_name          | Paying Customer     \n",
      " date                  | 2019-09-04 17:00:00 \n",
      " type_name             | Basic               \n",
      " date                  | 2019-09-04 18:00:00 \n",
      "-RECORD 9------------------------------------\n",
      " type_id               | 6                   \n",
      " package_id            | 200                 \n",
      " status_id             | 1                   \n",
      " maintenance_id        | 36722               \n",
      " stock_id              | 26102               \n",
      " estimate_id           | 6743146             \n",
      " price_maintenance     | 650.0               \n",
      " mtn_creation_date_id  | 2021101615          \n",
      " mtn_start_date_id     | 2021102215          \n",
      " mtn_end_date_id       | 2021102217          \n",
      " mtn_delivered_date_id |                     \n",
      " mtn_creation_date     | 2021-10-16 15:00:00 \n",
      " mtn_start_date        | 2021-10-22 15:00:00 \n",
      " mtn_end_date          | 2021-10-22 17:00:00 \n",
      " mtn_delivered_date    | NULL                \n",
      " status_name           | In_Maintenance      \n",
      " date                  | 2019-09-04 17:00:00 \n",
      " package_name          | Paying Customer     \n",
      " date                  | 2019-09-04 17:00:00 \n",
      " type_name             | Basic               \n",
      " date                  | 2019-09-04 18:00:00 \n",
      "-RECORD 10-----------------------------------\n",
      " type_id               | 2                   \n",
      " package_id            | 200                 \n",
      " status_id             | 2                   \n",
      " maintenance_id        | 37522               \n",
      " stock_id              | 100481              \n",
      " estimate_id           | 7280509             \n",
      " price_maintenance     | 549.99              \n",
      " mtn_creation_date_id  | 2021110321          \n",
      " mtn_start_date_id     | 2021110915          \n",
      " mtn_end_date_id       | 2021110918          \n",
      " mtn_delivered_date_id | 2021111823          \n",
      " mtn_creation_date     | 2021-11-03 21:00:00 \n",
      " mtn_start_date        | 2021-11-09 15:00:00 \n",
      " mtn_end_date          | 2021-11-09 18:00:00 \n",
      " mtn_delivered_date    | 2021-11-18 16:03:52 \n",
      " status_name           | Delivered           \n",
      " date                  | 2019-09-04 18:00:00 \n",
      " package_name          | Paying Customer     \n",
      " date                  | 2019-09-04 17:00:00 \n",
      " type_name             | Especific           \n",
      " date                  | 2019-09-04 21:00:00 \n",
      "-RECORD 11-----------------------------------\n",
      " type_id               | 6                   \n",
      " package_id            | 200                 \n",
      " status_id             | 2                   \n",
      " maintenance_id        | 36364               \n",
      " stock_id              | 41350               \n",
      " estimate_id           | 0                   \n",
      " price_maintenance     | 650.0               \n",
      " mtn_creation_date_id  | 2021100618          \n",
      " mtn_start_date_id     | 2021101316          \n",
      " mtn_end_date_id       | 2021101319          \n",
      " mtn_delivered_date_id | 2021101323          \n",
      " mtn_creation_date     | 2021-10-06 18:00:00 \n",
      " mtn_start_date        | 2021-10-13 16:00:00 \n",
      " mtn_end_date          | 2021-10-13 19:00:00 \n",
      " mtn_delivered_date    | 2021-10-13 19:14:45 \n",
      " status_name           | Delivered           \n",
      " date                  | 2019-09-04 18:00:00 \n",
      " package_name          | Paying Customer     \n",
      " date                  | 2019-09-04 17:00:00 \n",
      " type_name             | Basic               \n",
      " date                  | 2019-09-04 18:00:00 \n",
      "-RECORD 12-----------------------------------\n",
      " type_id               | 6                   \n",
      " package_id            | 200                 \n",
      " status_id             | 2                   \n",
      " maintenance_id        | 33647               \n",
      " stock_id              | 21739               \n",
      " estimate_id           | 0                   \n",
      " price_maintenance     | 1350.0              \n",
      " mtn_creation_date_id  | 2021070717          \n",
      " mtn_start_date_id     | 2021071713          \n",
      " mtn_end_date_id       | 2021071713          \n",
      " mtn_delivered_date_id | 2021071723          \n",
      " mtn_creation_date     | 2021-07-07 17:00:00 \n",
      " mtn_start_date        | 2021-07-17 13:00:00 \n",
      " mtn_end_date          | 2021-07-17 13:00:00 \n",
      " mtn_delivered_date    | 2021-07-17 21:07:39 \n",
      " status_name           | Delivered           \n",
      " date                  | 2019-09-04 18:00:00 \n",
      " package_name          | Paying Customer     \n",
      " date                  | 2019-09-04 17:00:00 \n",
      " type_name             | Basic               \n",
      " date                  | 2019-09-04 18:00:00 \n",
      "-RECORD 13-----------------------------------\n",
      " type_id               | 2                   \n",
      " package_id            | 200                 \n",
      " status_id             | 2                   \n",
      " maintenance_id        | 35723               \n",
      " stock_id              | 100079              \n",
      " estimate_id           | 0                   \n",
      " price_maintenance     | 499.0               \n",
      " mtn_creation_date_id  | 2021092114          \n",
      " mtn_start_date_id     | 2021100112          \n",
      " mtn_end_date_id       | 2021100115          \n",
      " mtn_delivered_date_id | 2021100123          \n",
      " mtn_creation_date     | 2021-09-21 14:00:00 \n",
      " mtn_start_date        | 2021-10-01 12:00:00 \n",
      " mtn_end_date          | 2021-10-01 15:00:00 \n",
      " mtn_delivered_date    | 2021-10-01 17:43:01 \n",
      " status_name           | Delivered           \n",
      " date                  | 2019-09-04 18:00:00 \n",
      " package_name          | Paying Customer     \n",
      " date                  | 2019-09-04 17:00:00 \n",
      " type_name             | Especific           \n",
      " date                  | 2019-09-04 21:00:00 \n",
      "-RECORD 14-----------------------------------\n",
      " type_id               | 6                   \n",
      " package_id            | 200                 \n",
      " status_id             | 2                   \n",
      " maintenance_id        | 36947               \n",
      " stock_id              | 45378               \n",
      " estimate_id           | 6924068             \n",
      " price_maintenance     | 1200.0              \n",
      " mtn_creation_date_id  | 2021102217          \n",
      " mtn_start_date_id     | 2021102516          \n",
      " mtn_end_date_id       | 2021102519          \n",
      " mtn_delivered_date_id | 2021102523          \n",
      " mtn_creation_date     | 2021-10-22 17:00:00 \n",
      " mtn_start_date        | 2021-10-25 16:00:00 \n",
      " mtn_end_date          | 2021-10-25 19:00:00 \n",
      " mtn_delivered_date    | 2021-10-25 21:44:51 \n",
      " status_name           | Delivered           \n",
      " date                  | 2019-09-04 18:00:00 \n",
      " package_name          | Paying Customer     \n",
      " date                  | 2019-09-04 17:00:00 \n",
      " type_name             | Basic               \n",
      " date                  | 2019-09-04 18:00:00 \n",
      "-RECORD 15-----------------------------------\n",
      " type_id               | 6                   \n",
      " package_id            | 200                 \n",
      " status_id             | 2                   \n",
      " maintenance_id        | 32777               \n",
      " stock_id              | 23739               \n",
      " estimate_id           | 0                   \n",
      " price_maintenance     | 1250.0              \n",
      " mtn_creation_date_id  | 2021052018          \n",
      " mtn_start_date_id     | 2021052619          \n",
      " mtn_end_date_id       | 2021052623          \n",
      " mtn_delivered_date_id | 2021052623          \n",
      " mtn_creation_date     | 2021-05-20 18:00:00 \n",
      " mtn_start_date        | 2021-05-26 19:00:00 \n",
      " mtn_end_date          | 2021-05-26 23:00:00 \n",
      " mtn_delivered_date    | 2021-05-26 22:21:39 \n",
      " status_name           | Delivered           \n",
      " date                  | 2019-09-04 18:00:00 \n",
      " package_name          | Paying Customer     \n",
      " date                  | 2019-09-04 17:00:00 \n",
      " type_name             | Basic               \n",
      " date                  | 2019-09-04 18:00:00 \n",
      "-RECORD 16-----------------------------------\n",
      " type_id               | 6                   \n",
      " package_id            | 200                 \n",
      " status_id             | 2                   \n",
      " maintenance_id        | 37625               \n",
      " stock_id              | 37242               \n",
      " estimate_id           | 8792205             \n",
      " price_maintenance     | 1350.0              \n",
      " mtn_creation_date_id  | 2021110521          \n",
      " mtn_start_date_id     | 2021110714          \n",
      " mtn_end_date_id       | 2021110716          \n",
      " mtn_delivered_date_id | 2021111023          \n",
      " mtn_creation_date     | 2021-11-05 21:00:00 \n",
      " mtn_start_date        | 2021-11-07 14:00:00 \n",
      " mtn_end_date          | 2021-11-07 16:00:00 \n",
      " mtn_delivered_date    | 2021-11-10 02:57:11 \n",
      " status_name           | Delivered           \n",
      " date                  | 2019-09-04 18:00:00 \n",
      " package_name          | Paying Customer     \n",
      " date                  | 2019-09-04 17:00:00 \n",
      " type_name             | Basic               \n",
      " date                  | 2019-09-04 18:00:00 \n",
      "-RECORD 17-----------------------------------\n",
      " type_id               | 2                   \n",
      " package_id            | 200                 \n",
      " status_id             | 2                   \n",
      " maintenance_id        | 37272               \n",
      " stock_id              | 100928              \n",
      " estimate_id           | 7656760             \n",
      " price_maintenance     | 659.99              \n",
      " mtn_creation_date_id  | 2021103016          \n",
      " mtn_start_date_id     | 2021112712          \n",
      " mtn_end_date_id       | 2021112714          \n",
      " mtn_delivered_date_id | 2021120423          \n",
      " mtn_creation_date     | 2021-10-30 16:00:00 \n",
      " mtn_start_date        | 2021-11-27 12:00:00 \n",
      " mtn_end_date          | 2021-11-27 14:00:00 \n",
      " mtn_delivered_date    | 2021-12-04 16:27:13 \n",
      " status_name           | Delivered           \n",
      " date                  | 2019-09-04 18:00:00 \n",
      " package_name          | Paying Customer     \n",
      " date                  | 2019-09-04 17:00:00 \n",
      " type_name             | Especific           \n",
      " date                  | 2019-09-04 21:00:00 \n",
      "-RECORD 18-----------------------------------\n",
      " type_id               | 6                   \n",
      " package_id            | 200                 \n",
      " status_id             | 2                   \n",
      " maintenance_id        | 37221               \n",
      " stock_id              | 28569               \n",
      " estimate_id           | 8824964             \n",
      " price_maintenance     | 650.0               \n",
      " mtn_creation_date_id  | 2021102912          \n",
      " mtn_start_date_id     | 2021110316          \n",
      " mtn_end_date_id       | 2021110319          \n",
      " mtn_delivered_date_id | 2021110423          \n",
      " mtn_creation_date     | 2021-10-29 12:00:00 \n",
      " mtn_start_date        | 2021-11-03 16:00:00 \n",
      " mtn_end_date          | 2021-11-03 19:00:00 \n",
      " mtn_delivered_date    | 2021-11-04 16:05:51 \n",
      " status_name           | Delivered           \n",
      " date                  | 2019-09-04 18:00:00 \n",
      " package_name          | Paying Customer     \n",
      " date                  | 2019-09-04 17:00:00 \n",
      " type_name             | Basic               \n",
      " date                  | 2019-09-04 18:00:00 \n",
      "-RECORD 19-----------------------------------\n",
      " type_id               | 1                   \n",
      " package_id            | 200                 \n",
      " status_id             | 2                   \n",
      " maintenance_id        | 36001               \n",
      " stock_id              | 36443               \n",
      " estimate_id           | 0                   \n",
      " price_maintenance     | 1599.0              \n",
      " mtn_creation_date_id  | 2021092721          \n",
      " mtn_start_date_id     | 2021100919          \n",
      " mtn_end_date_id       | 2021100922          \n",
      " mtn_delivered_date_id | 2021100923          \n",
      " mtn_creation_date     | 2021-09-27 21:00:00 \n",
      " mtn_start_date        | 2021-10-09 19:00:00 \n",
      " mtn_end_date          | 2021-10-09 22:00:00 \n",
      " mtn_delivered_date    | 2021-10-09 23:19:03 \n",
      " status_name           | Delivered           \n",
      " date                  | 2019-09-04 18:00:00 \n",
      " package_name          | Paying Customer     \n",
      " date                  | 2019-09-04 17:00:00 \n",
      " type_name             | Medium              \n",
      " date                  | 2019-09-04 20:00:00 \n",
      "only showing top 20 rows\n",
      "\n"
     ]
    }
   ],
   "source": [
    "df_silver_complete.show(vertical=True)"
   ]
  },
  {
   "cell_type": "markdown",
   "id": "90b17d57",
   "metadata": {},
   "source": [
    "## Load"
   ]
  },
  {
   "cell_type": "code",
   "execution_count": 46,
   "id": "b0ec3959",
   "metadata": {},
   "outputs": [
    {
     "name": "stdout",
     "output_type": "stream",
     "text": [
      "root\n",
      " |-- type_id: integer (nullable = true)\n",
      " |-- package_id: integer (nullable = true)\n",
      " |-- status_id: integer (nullable = true)\n",
      " |-- maintenance_id: integer (nullable = true)\n",
      " |-- stock_id: integer (nullable = true)\n",
      " |-- estimate_id: integer (nullable = true)\n",
      " |-- price_maintenance: double (nullable = true)\n",
      " |-- mtn_creation_date_id: string (nullable = true)\n",
      " |-- mtn_start_date_id: string (nullable = true)\n",
      " |-- mtn_end_date_id: string (nullable = true)\n",
      " |-- mtn_delivered_date_id: string (nullable = true)\n",
      " |-- mtn_creation_date: string (nullable = true)\n",
      " |-- mtn_start_date: string (nullable = true)\n",
      " |-- mtn_end_date: string (nullable = true)\n",
      " |-- mtn_delivered_date: string (nullable = true)\n",
      " |-- status_name: string (nullable = true)\n",
      " |-- date: string (nullable = true)\n",
      " |-- package_name: string (nullable = true)\n",
      " |-- date: string (nullable = true)\n",
      " |-- type_name: string (nullable = true)\n",
      " |-- date: string (nullable = true)\n",
      "\n"
     ]
    }
   ],
   "source": [
    "df_silver_complete.printSchema()"
   ]
  },
  {
   "cell_type": "code",
   "execution_count": 47,
   "id": "af93db90",
   "metadata": {},
   "outputs": [],
   "source": [
    "df_silver_complete = df_silver_complete.drop(\"date\")"
   ]
  },
  {
   "cell_type": "code",
   "execution_count": 48,
   "id": "9e3087ce",
   "metadata": {},
   "outputs": [],
   "source": [
    "properties = {\"user\": \"airflow\",\"password\": \"airflow\",\"driver\": \"org.postgresql.Driver\"}\n",
    "\n",
    "(df_silver_complete\n",
    " .write\n",
    " .jdbc(url=\"jdbc:postgresql://postgres:5432/postgres\",table='example',mode='overwrite',properties=properties)\n",
    ")"
   ]
  },
  {
   "cell_type": "code",
   "execution_count": null,
   "id": "48e775f2",
   "metadata": {},
   "outputs": [],
   "source": [
    "df_db_type_status = (spark.read.format(\"jdbc\").option(\"url\",\"jdbc:postgresql://postgres:5432/postgres\")\n",
    "         .option(\"dbtable\",\"cat_type_status\") \\\n",
    "         .option(\"user\",\"airflow\").option(\"password\",\"airflow\") \\\n",
    "         .option(\"driver\",\"org.postgresql.Driver\").load()\n",
    "        )"
   ]
  }
 ],
 "metadata": {
  "kernelspec": {
   "display_name": "Python 3 (ipykernel)",
   "language": "python",
   "name": "python3"
  },
  "language_info": {
   "codemirror_mode": {
    "name": "ipython",
    "version": 3
   },
   "file_extension": ".py",
   "mimetype": "text/x-python",
   "name": "python",
   "nbconvert_exporter": "python",
   "pygments_lexer": "ipython3",
   "version": "3.9.7"
  }
 },
 "nbformat": 4,
 "nbformat_minor": 5
}
