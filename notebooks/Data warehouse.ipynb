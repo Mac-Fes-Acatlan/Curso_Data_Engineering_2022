{
 "cells": [
  {
   "cell_type": "code",
   "execution_count": 7,
   "id": "2a0829a6",
   "metadata": {},
   "outputs": [],
   "source": [
    "from pyspark.sql import SparkSession\n",
    "import pyspark.sql.functions as F\n",
    "import warnings"
   ]
  },
  {
   "cell_type": "code",
   "execution_count": 8,
   "id": "c0b9eb67",
   "metadata": {},
   "outputs": [],
   "source": [
    "spark = SparkSession.builder.config(\"spark.jars\",\"/home/jovyan/drivers/postgresql-42.2.18.jar\") \\\n",
    "        .master(\"local[*]\").appName(\"Engine\").getOrCreate().newSession()"
   ]
  },
  {
   "cell_type": "code",
   "execution_count": 9,
   "id": "281e8845",
   "metadata": {},
   "outputs": [],
   "source": [
    "df_dwh = (spark\n",
    "        .read.parquet(\"/home/jovyan/datalake/silver_layer/data_clean_maintenance/*\")\n",
    ")"
   ]
  },
  {
   "cell_type": "code",
   "execution_count": 10,
   "id": "cf47bb92",
   "metadata": {},
   "outputs": [
    {
     "name": "stdout",
     "output_type": "stream",
     "text": [
      "root\n",
      " |-- type_id: integer (nullable = true)\n",
      " |-- package_id: integer (nullable = true)\n",
      " |-- status_id: integer (nullable = true)\n",
      " |-- maintenance_id: integer (nullable = true)\n",
      " |-- stock_id: integer (nullable = true)\n",
      " |-- estimate_id: integer (nullable = true)\n",
      " |-- price_maintenance: double (nullable = true)\n",
      " |-- mtn_creation_date_id: string (nullable = true)\n",
      " |-- mtn_start_date_id: string (nullable = true)\n",
      " |-- mtn_end_date_id: string (nullable = true)\n",
      " |-- mtn_delivered_date_id: string (nullable = true)\n",
      " |-- mtn_creation_date: string (nullable = true)\n",
      " |-- mtn_start_date: string (nullable = true)\n",
      " |-- mtn_end_date: string (nullable = true)\n",
      " |-- mtn_delivered_date: string (nullable = true)\n",
      " |-- status_name: string (nullable = true)\n",
      " |-- package_name: string (nullable = true)\n",
      " |-- type_name: string (nullable = true)\n",
      "\n"
     ]
    }
   ],
   "source": [
    "df_dwh.printSchema()"
   ]
  },
  {
   "cell_type": "markdown",
   "id": "95515ef8",
   "metadata": {},
   "source": [
    "# Dim"
   ]
  },
  {
   "cell_type": "markdown",
   "id": "6d20df28",
   "metadata": {},
   "source": [
    "## Dim Package"
   ]
  },
  {
   "cell_type": "code",
   "execution_count": 18,
   "id": "bd560a70",
   "metadata": {},
   "outputs": [
    {
     "data": {
      "text/plain": [
       "DataFrame[package_id: int, package_name: string]"
      ]
     },
     "execution_count": 18,
     "metadata": {},
     "output_type": "execute_result"
    }
   ],
   "source": [
    "df_dwh.select(\"package_id\",\"package_name\")"
   ]
  },
  {
   "cell_type": "code",
   "execution_count": 20,
   "id": "40649947",
   "metadata": {},
   "outputs": [],
   "source": [
    "df_dim_package = df_dwh.select(\"package_id\",\"package_name\")"
   ]
  },
  {
   "cell_type": "code",
   "execution_count": 21,
   "id": "c729a6ec",
   "metadata": {},
   "outputs": [
    {
     "name": "stdout",
     "output_type": "stream",
     "text": [
      "root\n",
      " |-- package_id: integer (nullable = true)\n",
      " |-- package_name: string (nullable = true)\n",
      "\n"
     ]
    }
   ],
   "source": [
    "df_dim_package.printSchema()"
   ]
  },
  {
   "cell_type": "code",
   "execution_count": 22,
   "id": "9cf25eb7",
   "metadata": {},
   "outputs": [],
   "source": [
    "df_dim_package = df_dim_package.withColumnRenamed(\"package_id\",\"bk_package\")\n",
    "df_dim_package = df_dim_package.withColumnRenamed(\"package_name\",\"name_package\")"
   ]
  },
  {
   "cell_type": "code",
   "execution_count": 24,
   "id": "5c06a373",
   "metadata": {},
   "outputs": [
    {
     "name": "stdout",
     "output_type": "stream",
     "text": [
      "root\n",
      " |-- bk_package: integer (nullable = true)\n",
      " |-- name_package: string (nullable = true)\n",
      "\n"
     ]
    }
   ],
   "source": [
    "df_dim_package.printSchema()"
   ]
  },
  {
   "cell_type": "code",
   "execution_count": 46,
   "id": "cbb8b0f7",
   "metadata": {},
   "outputs": [
    {
     "name": "stdout",
     "output_type": "stream",
     "text": [
      "+----------+---------------+\n",
      "|bk_package|   name_package|\n",
      "+----------+---------------+\n",
      "|       200|Paying Customer|\n",
      "|       200|Paying Customer|\n",
      "|       200|Paying Customer|\n",
      "+----------+---------------+\n",
      "only showing top 3 rows\n",
      "\n"
     ]
    }
   ],
   "source": [
    "df_dim_package.show(3)"
   ]
  },
  {
   "cell_type": "code",
   "execution_count": 49,
   "id": "6b07829c",
   "metadata": {},
   "outputs": [],
   "source": [
    "properties = {\"user\":\"airflow\",\"password\":\"airflow\",\"driver\":\"org.postgresql.Driver\"}\n",
    "(\n",
    "    df_dim_package\n",
    "    .write\n",
    "    .jdbc(url=\"jdbc:postgresql://postgres:5432/postgres\",\n",
    "         table=\"dim_package\",\n",
    "         properties=properties)\n",
    ")"
   ]
  },
  {
   "cell_type": "markdown",
   "id": "fa56adf2",
   "metadata": {},
   "source": [
    "# Dim status"
   ]
  },
  {
   "cell_type": "code",
   "execution_count": 33,
   "id": "b4ba6167",
   "metadata": {},
   "outputs": [
    {
     "data": {
      "text/plain": [
       "DataFrame[status_id: int, status_name: string]"
      ]
     },
     "execution_count": 33,
     "metadata": {},
     "output_type": "execute_result"
    }
   ],
   "source": [
    "df_dwh.select(\"status_id\",\"status_name\")"
   ]
  },
  {
   "cell_type": "code",
   "execution_count": 34,
   "id": "77973820",
   "metadata": {},
   "outputs": [],
   "source": [
    "df_dim_status = df_dwh.select(\"status_id\",\"status_name\")"
   ]
  },
  {
   "cell_type": "code",
   "execution_count": 35,
   "id": "7179522b",
   "metadata": {},
   "outputs": [],
   "source": [
    "df_dim_status = df_dim_status.withColumnRenamed(\"status_id\",\"bk_status\")\n",
    "df_dim_status = df_dim_status.withColumnRenamed(\"status_name\",\"name_status\")"
   ]
  },
  {
   "cell_type": "code",
   "execution_count": 36,
   "id": "5459e10a",
   "metadata": {},
   "outputs": [
    {
     "name": "stdout",
     "output_type": "stream",
     "text": [
      "root\n",
      " |-- bk_status: integer (nullable = true)\n",
      " |-- name_status: string (nullable = true)\n",
      "\n"
     ]
    }
   ],
   "source": [
    "df_dim_status.printSchema()"
   ]
  },
  {
   "cell_type": "code",
   "execution_count": 50,
   "id": "8e57e281",
   "metadata": {},
   "outputs": [
    {
     "name": "stdout",
     "output_type": "stream",
     "text": [
      "+---------+--------------+\n",
      "|bk_status|   name_status|\n",
      "+---------+--------------+\n",
      "|        1|In_Maintenance|\n",
      "|        1|In_Maintenance|\n",
      "|        1|In_Maintenance|\n",
      "+---------+--------------+\n",
      "only showing top 3 rows\n",
      "\n"
     ]
    }
   ],
   "source": [
    "df_dim_status.show(3)"
   ]
  },
  {
   "cell_type": "code",
   "execution_count": 51,
   "id": "7c6d65d8",
   "metadata": {},
   "outputs": [],
   "source": [
    "properties = {\"user\":\"airflow\",\"password\":\"airflow\",\"driver\":\"org.postgresql.Driver\"}\n",
    "(\n",
    "    df_dim_status\n",
    "    .write\n",
    "    .jdbc(url=\"jdbc:postgresql://postgres:5432/postgres\",\n",
    "         table=\"dim_status\",\n",
    "         properties=properties)\n",
    ")"
   ]
  },
  {
   "cell_type": "markdown",
   "id": "f905b69a",
   "metadata": {},
   "source": [
    "# Fact"
   ]
  },
  {
   "cell_type": "code",
   "execution_count": 40,
   "id": "c362b431",
   "metadata": {},
   "outputs": [],
   "source": [
    "df_fact_maintenance = (df_dwh\n",
    " .select(\"status_id\"\n",
    "         ,\"package_id\"\n",
    "         ,\"maintenance_id\",\n",
    "         \"price_maintenance\")\n",
    ")"
   ]
  },
  {
   "cell_type": "code",
   "execution_count": 41,
   "id": "73e5ce51",
   "metadata": {},
   "outputs": [],
   "source": [
    "df_fact_maintenance = df_fact_maintenance.withColumnRenamed(\"status_id\",\"bk_status\")\n",
    "df_fact_maintenance = df_fact_maintenance.withColumnRenamed(\"package_id\",\"bk_package\")\n",
    "df_fact_maintenance = df_fact_maintenance.withColumnRenamed(\"maintenance_id\",\"bk_maintenance\")"
   ]
  },
  {
   "cell_type": "code",
   "execution_count": 42,
   "id": "230853c3",
   "metadata": {},
   "outputs": [
    {
     "name": "stdout",
     "output_type": "stream",
     "text": [
      "root\n",
      " |-- bk_status: integer (nullable = true)\n",
      " |-- bk_package: integer (nullable = true)\n",
      " |-- bk_maintenance: integer (nullable = true)\n",
      " |-- price_maintenance: double (nullable = true)\n",
      "\n"
     ]
    }
   ],
   "source": [
    "df_fact_maintenance.printSchema()"
   ]
  },
  {
   "cell_type": "code",
   "execution_count": 52,
   "id": "e2fb2846",
   "metadata": {},
   "outputs": [
    {
     "name": "stdout",
     "output_type": "stream",
     "text": [
      "+---------+----------+--------------+-----------------+\n",
      "|bk_status|bk_package|bk_maintenance|price_maintenance|\n",
      "+---------+----------+--------------+-----------------+\n",
      "|        1|       200|         36722|            650.0|\n",
      "|        1|       200|         38642|            650.0|\n",
      "|        1|       200|         38470|           1000.0|\n",
      "|        1|       200|         38856|           1100.0|\n",
      "+---------+----------+--------------+-----------------+\n",
      "only showing top 4 rows\n",
      "\n"
     ]
    }
   ],
   "source": [
    "df_fact_maintenance.show(4)"
   ]
  },
  {
   "cell_type": "code",
   "execution_count": 53,
   "id": "ca07934f",
   "metadata": {},
   "outputs": [],
   "source": [
    "properties = {\"user\":\"airflow\",\"password\":\"airflow\",\"driver\":\"org.postgresql.Driver\"}\n",
    "(\n",
    "    df_fact_maintenance\n",
    "    .write\n",
    "    .jdbc(url=\"jdbc:postgresql://postgres:5432/postgres\",\n",
    "         table=\"fact_maintenance\",\n",
    "         properties=properties)\n",
    ")"
   ]
  },
  {
   "cell_type": "code",
   "execution_count": null,
   "id": "90b14ae0",
   "metadata": {},
   "outputs": [],
   "source": []
  }
 ],
 "metadata": {
  "kernelspec": {
   "display_name": "Python 3 (ipykernel)",
   "language": "python",
   "name": "python3"
  },
  "language_info": {
   "codemirror_mode": {
    "name": "ipython",
    "version": 3
   },
   "file_extension": ".py",
   "mimetype": "text/x-python",
   "name": "python",
   "nbconvert_exporter": "python",
   "pygments_lexer": "ipython3",
   "version": "3.9.7"
  }
 },
 "nbformat": 4,
 "nbformat_minor": 5
}
